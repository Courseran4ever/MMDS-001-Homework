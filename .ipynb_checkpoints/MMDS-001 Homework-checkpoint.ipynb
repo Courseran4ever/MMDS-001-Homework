{
 "metadata": {
  "name": "",
  "signature": "sha256:14aa5d63de344c22cab7e145e71219b4805a684473db72daa22119737e18877f"
 },
 "nbformat": 3,
 "nbformat_minor": 0,
 "worksheets": [
  {
   "cells": [
    {
     "cell_type": "heading",
     "level": 1,
     "metadata": {},
     "source": [
      "Mining Massive Datasets Homework"
     ]
    },
    {
     "cell_type": "markdown",
     "metadata": {},
     "source": [
      "*by Jure Leskovec, Anand Rajaraman, Jeff Ullman*"
     ]
    },
    {
     "cell_type": "heading",
     "level": 2,
     "metadata": {},
     "source": [
      "Homework 1"
     ]
    },
    {
     "cell_type": "markdown",
     "metadata": {},
     "source": [
      "Due Mon 13 Oct 2014 11:59 PM PDT; Hard Deadline Mon 24 Nov 2014 11:59 PM PST"
     ]
    },
    {
     "cell_type": "heading",
     "level": 3,
     "metadata": {},
     "source": [
      "Question 1 (iPython docs suggest that logical sections be Heading cells, not just HTML markup)"
     ]
    },
    {
     "cell_type": "markdown",
     "metadata": {},
     "source": [
      "Consider three Web pages with the following links:\n",
      "![Three Web Pages](files/otc_pagerank2.gif)\n",
      "\n",
      "Suppose we compute PageRank with a \u03b2 of 0.7, and we introduce the additional constraint that the sum of the PageRanks of the three pages must be 3, to handle the problem that otherwise any multiple of a solution will also be a solution. Compute the PageRanks a, b, and c of the three pages A, B, and C, respectively. Then, identify from the list below, the true statement.\n",
      "\n",
      "b + c = 2.735  \n",
      "\n",
      "a + c = 2.745  \n",
      "\n",
      "a + b = 0.705  \n",
      "\n",
      "a + b = 0.55 \n"
     ]
    },
    {
     "cell_type": "heading",
     "level": 4,
     "metadata": {},
     "source": [
      "Answer 1 (this is just the heading; iPython docs suggest that logical sections be Heading cells, not just HTML markup)"
     ]
    },
    {
     "cell_type": "markdown",
     "metadata": {},
     "source": [
      "Replace this with your answer to question 1. Add cells as necessary.\n",
      "\n",
      "Here's an example of mixed markdown and HTML: r<sub>a</sub> + r<sub>b</sub> + r<sub>c</sub> = ?\n",
      "\n",
      "~~Shift-Enter or click the \"Play\" button to transform this markdown source to HTML display.~~"
     ]
    },
    {
     "cell_type": "heading",
     "level": 3,
     "metadata": {},
     "source": [
      "Question 2"
     ]
    },
    {
     "cell_type": "markdown",
     "metadata": {},
     "source": [
      "Consider three Web pages with the following links:\n",
      "![Three Web Pages](files/otc_pagerank3.gif)\n",
      "\n",
      "Suppose we compute PageRank with \u03b2=0.85. \n",
      "Write the equations for the PageRanks a, b, and c of the three pages A, B, and C, respectively. \n",
      "Then, identify in the list below, one of the equations.\n",
      "\n",
      ".95a = .9c + .05b\n",
      "\n",
      "b = .575a + .15c\n",
      "\n",
      "c = .9b + .475a\n",
      "\n",
      "85b = .575a + .15c\n"
     ]
    },
    {
     "cell_type": "heading",
     "level": 4,
     "metadata": {},
     "source": [
      "Answer 2"
     ]
    },
    {
     "cell_type": "markdown",
     "metadata": {},
     "source": [
      "Replace this with your answer to question 2. Add cells as necessary.\n",
      "\n",
      "Here's an example of markdown and a MathJAX/TeX matrix: $\\left( \\begin{matrix} a & b & c \\\\ d & e & f \\\\ g & h & i \\end{matrix} \\right)$\n",
      "\n",
      "Use vmatrix for vertical bars: $\\begin{vmatrix} a & b & c \\\\ d & e & f \\\\ g & h & i \\end{vmatrix}$\n",
      "\n",
      "~~Shift-Enter or click the \"Play\" button to transform this markdown source to HTML display.~~"
     ]
    },
    {
     "cell_type": "heading",
     "level": 3,
     "metadata": {},
     "source": [
      "Question 3"
     ]
    },
    {
     "cell_type": "markdown",
     "metadata": {},
     "source": [
      "Consider three Web pages with the following links:\n",
      "![Three Web Pages](files/otc_pagerank3.gif)\n",
      "\n",
      "Assuming no \"taxation,\" compute the PageRanks a, b, and c of the three pages A, B, and C, using iteration, starting with the \"0th\" iteration where all three pages have rank a = b = c = 1. Compute as far as the 5th iteration, and also determine what the PageRanks are in the limit. Then, identify the true statement from the list below.\n",
      "\n",
      "After iteration 5, c = 7/4\n",
      "\n",
      "After iteration 5, c = 1\n",
      "\n",
      "In the limit, c = 9/7\n",
      "\n",
      "After iteration 5, a = 5/4\n"
     ]
    },
    {
     "cell_type": "heading",
     "level": 4,
     "metadata": {},
     "source": [
      "Answer 3"
     ]
    },
    {
     "cell_type": "markdown",
     "metadata": {},
     "source": [
      "Replace this with your answer to question 3. Add cells as necessary.\n",
      "\n",
      "~~Shift-Enter or click the \"Play\" button to transform this markdown source to HTML display.~~"
     ]
    },
    {
     "cell_type": "heading",
     "level": 3,
     "metadata": {},
     "source": [
      "Question 4"
     ]
    },
    {
     "cell_type": "markdown",
     "metadata": {},
     "source": [
      "Suppose our input data to a map-reduce operation consists of integer values (the keys are not important). The map function takes an integer i and produces the list of pairs (p,i) such that p is a prime divisor of i. For example, map(12) = [(2,12), (3,12)].\n",
      "\n",
      "The reduce function is addition. That is, reduce(_p_, [_i_<sub>1</sub>, _i_<sub>2</sub>, ...,_i_<sub>_k_</sub>])\n",
      "is (_p_,_i_<sub>1</sub>+_i_<sub>2</sub>+...+_i_<sub>_k_</sub>).\n",
      "\n",
      "Compute the output, if the input is the set of integers 15, 21, 24, 30, 49. Then, identify, in the list below, one of the pairs in the output.\n",
      "\n",
      "(7,119)\n",
      "\n",
      "(6,54)\n",
      "\n",
      "(3,75)\n",
      "\n",
      "(3,90)\n"
     ]
    },
    {
     "cell_type": "heading",
     "level": 4,
     "metadata": {},
     "source": [
      "Answer 4."
     ]
    },
    {
     "cell_type": "code",
     "collapsed": false,
     "input": [
      "#Replace this with your answer to question 4. Add cells as necessary.\n",
      "\n",
      "#Here's an example of inline python\n",
      "\n",
      "def flattenList(twoDList):\n",
      "    return [ i for sublist in twoDList for i in sublist]\n",
      "\n",
      "twoD = [[(1, 1), (2, 2)], [(1, 2), (2, 1)]]\n",
      "\n",
      "print twoD\n",
      "print flattenList(twoD)\n",
      "print sorted(flattenList(twoD))\n",
      "\n",
      "#Shift-Enter or click the \"Play\" button to run this python script."
     ],
     "language": "python",
     "metadata": {},
     "outputs": [
      {
       "output_type": "stream",
       "stream": "stdout",
       "text": [
        "[[(1, 1), (2, 2)], [(1, 2), (2, 1)]]\n",
        "[(1, 1), (2, 2), (1, 2), (2, 1)]\n",
        "[(1, 1), (1, 2), (2, 1), (2, 2)]\n"
       ]
      }
     ],
     "prompt_number": 5
    },
    {
     "cell_type": "heading",
     "level": 2,
     "metadata": {},
     "source": [
      "Week 2: LSH (Basic) "
     ]
    },
    {
     "cell_type": "markdown",
     "metadata": {},
     "source": [
      "Due Date Mon 20 Oct 2014 11:59 PM PDT; Hard Deadline Mon 17 Nov 2014 11:59 PM PST"
     ]
    },
    {
     "cell_type": "heading",
     "level": 3,
     "metadata": {},
     "source": [
      "Question 1"
     ]
    },
    {
     "cell_type": "markdown",
     "metadata": {},
     "source": [
      "The edit distance is the minimum number of character insertions and character deletions required to turn one string into another. Compute the edit distance between each pair of the strings he, she, his, and hers. Then, identify which of the following is a true statement about the number of pairs at a certain edit distance.\n",
      "\n",
      "There are 2 pairs at distance 3.\n",
      "\n",
      "There is 1 pair at distance 5.\n",
      "\n",
      "There are 2 pairs at distance 2.\n",
      "\n",
      "There is 1 pair at distance 2."
     ]
    },
    {
     "cell_type": "heading",
     "level": 4,
     "metadata": {},
     "source": [
      "Answer 1"
     ]
    },
    {
     "cell_type": "markdown",
     "metadata": {},
     "source": [
      "Compute answer 1 here"
     ]
    },
    {
     "cell_type": "heading",
     "level": 3,
     "metadata": {},
     "source": [
      "Question 2"
     ]
    },
    {
     "cell_type": "markdown",
     "metadata": {},
     "source": [
      "\n",
      "Consider the following matrix:\n",
      "\n",
      "|   |C1 |C2 |C3 |C4|\n",
      "|---|:-|:-|:-|:-|\n",
      "|R1 |0 |1 |1 |0|\n",
      "|R2 |1 |0 |1 |1|\n",
      "|R3 |0 |1 |0 |1|\n",
      "|R4 |0 |0 |1 |0|\n",
      "|R5 |1 |0 |1 |0|\n",
      "|R6 |0 |1 |0 |0|\n",
      "\n",
      "\n",
      "Perform a minhashing of the data, with the order of rows: R4, R6, R1, R3, R5, R2. Which of the following is the correct minhash value of the stated column? **Note:** we give the minhash value in terms of the original name of the row, rather than the order of the row in the permutation. These two schemes are equivalent, since we only care whether hash values for two columns are equal, not what their actual values are.\n",
      "\n",
      "The minhash value for C3 is R5\n",
      "\n",
      "The minhash value for C2 is R6\n",
      "\n",
      "The minhash value for C4 is R5\n",
      "\n",
      "The minhash value for C2 is R3\n"
     ]
    },
    {
     "cell_type": "heading",
     "level": 4,
     "metadata": {},
     "source": [
      "Answer 2"
     ]
    },
    {
     "cell_type": "markdown",
     "metadata": {},
     "source": [
      "Compute answer 2 here"
     ]
    },
    {
     "cell_type": "heading",
     "level": 3,
     "metadata": {},
     "source": [
      "Question 3"
     ]
    },
    {
     "cell_type": "markdown",
     "metadata": {},
     "source": [
      "Here is a matrix representing the signatures of seven columns, C1 through C7. \n",
      "\n",
      "|C1 |C2 |C3 |C4 |C5 |C6 |C7|\n",
      "|:-|:-|:-|:-|:-|:-|:-|\n",
      "|1 |2 |1 |1 |2 |5 |4|\n",
      "|2 |3 |4 |2 |3 |2 |2|\n",
      "|3 |1 |2 |3 |1 |3 |2|\n",
      "|4 |1 |3 |1 |2 |4 |4|\n",
      "|5 |2 |5 |1 |1 |5 |1|\n",
      "|6 |1 |6 |4 |1 |1 |4|\n",
      "\n",
      " Suppose we use locality-sensitive hashing with three bands of two rows each. Assume there are enough buckets available that the hash function for each band can be the identity function (i.e., columns hash to the same bucket if and only if they are identical in the band). Find all the candidate pairs, and then identify one of them in the list below.\n",
      "\n",
      "C4 and C6\n",
      "\n",
      "C2 and C4\n",
      "\n",
      "C1 and C3\n",
      "\n",
      "C3 and C5\n"
     ]
    },
    {
     "cell_type": "heading",
     "level": 4,
     "metadata": {},
     "source": [
      "Answer 3"
     ]
    },
    {
     "cell_type": "markdown",
     "metadata": {},
     "source": [
      "Compute answer 3 here"
     ]
    },
    {
     "cell_type": "heading",
     "level": 3,
     "metadata": {},
     "source": [
      "Question 4"
     ]
    },
    {
     "cell_type": "markdown",
     "metadata": {},
     "source": [
      "Find the set of 2-shingles for the \"document\":\n",
      "\n",
      "<blockquote><font color='blue'>ABRACADABRA</font></blockquote>\n",
      "\n",
      "and also for the \"document\":\n",
      "\n",
      "<blockquote><font color='blue'>BRICABRAC</font></blockquote>\n",
      "\n",
      "Answer the following questions:\n",
      "\n",
      "* How many 2-shingles does ABRACADABRA have?\n",
      "* How many 2-shingles does BRICABRAC have?\n",
      "* How many 2-shingles do they have in common?\n",
      "* What is the Jaccard similarity between the two documents\"?\n",
      "\n",
      "Then, find the true statement in the list below.\n",
      "\n",
      "The Jaccard similarity is 4/7.\n",
      "\n",
      "BRICABRAC has 7 2-shingles.\n",
      "\n",
      "BRICABRAC has 8 2-shingles.\n",
      "\n",
      "There are 4 shingles in common."
     ]
    },
    {
     "cell_type": "heading",
     "level": 4,
     "metadata": {},
     "source": [
      "Answer 4"
     ]
    },
    {
     "cell_type": "markdown",
     "metadata": {},
     "source": [
      "Compute answer 4 here"
     ]
    },
    {
     "cell_type": "heading",
     "level": 3,
     "metadata": {},
     "source": [
      "Question 5"
     ]
    },
    {
     "cell_type": "markdown",
     "metadata": {},
     "source": [
      "<font color='blue'>\n",
      "s1 = abcef  \n",
      "s2 = acdeg  \n",
      "s3 = bcdefg  \n",
      "s4 = adfg  \n",
      "s5 = bcdfgh  \n",
      "s6 = bceg  \n",
      "s7 = cdfg  \n",
      "s8 = abcd\n",
      "</font>\n",
      "\n",
      "Suppose our upper limit on Jaccard distance is 0.2, and we use the indexing scheme of Section 3.9.4 based on symbols appearing in the prefix (no position or length information). For each of s<sub>1</sub>, s<sub>3</sub>, and s<sub>6</sub>, determine how many other strings that string will be compared with, if it is used as the probe string. Then, identify the true count from the list below.\n",
      "\n",
      "s3 is compared with 2 other strings.\n",
      "\n",
      "s6 is compared with 3 other strings.\n",
      "\n",
      "s6 is compared with 2 other strings.\n",
      "\n",
      "s6 is compared with 5 other strings."
     ]
    },
    {
     "cell_type": "heading",
     "level": 4,
     "metadata": {},
     "source": [
      "Answer 5"
     ]
    },
    {
     "cell_type": "markdown",
     "metadata": {},
     "source": [
      "Compute answer 5 here"
     ]
    },
    {
     "cell_type": "heading",
     "level": 3,
     "metadata": {},
     "source": [
      "Question 6"
     ]
    },
    {
     "cell_type": "markdown",
     "metadata": {},
     "source": [
      "Suppose we want to assign points to whichever of the points (0,0) or (100,40) is nearer. Depending on whether we use the L<sub>1</sub> or L<sub>2</sub> norm, a point (x,y) could be clustered with a different one of these two points. For this problem, you should work out the conditions under which a point will be assigned to (0,0) when the L<sub>1</sub> norm is used, but assigned to (100,40) when the L<sub>2</sub> norm is used. Identify one of those points from the list below.\n",
      "\n",
      "(58,13)\n",
      "\n",
      "(63,8)\n",
      "\n",
      "(66,5)\n",
      "\n",
      "(61,8)"
     ]
    },
    {
     "cell_type": "heading",
     "level": 4,
     "metadata": {},
     "source": [
      "Answer 6"
     ]
    },
    {
     "cell_type": "markdown",
     "metadata": {},
     "source": [
      "Compute aswer 6 here"
     ]
    },
    {
     "cell_type": "heading",
     "level": 2,
     "metadata": {},
     "source": [
      "Week 2: Frequent Itemsets (Basic) "
     ]
    },
    {
     "cell_type": "markdown",
     "metadata": {},
     "source": [
      "Due Date Mon 20 Oct 2014 11:59 PM PDT; Hard Deadline Mon 17 Nov 2014 11:59 PM PST"
     ]
    },
    {
     "cell_type": "heading",
     "level": 3,
     "metadata": {},
     "source": [
      "Question 1"
     ]
    },
    {
     "cell_type": "markdown",
     "metadata": {},
     "source": [
      "Suppose we have transactions that satisfy the following assumptions:\n",
      "\n",
      "* *s*, the support threshold, is 10,000.\n",
      "* There are one million items, which are represented by the integers 0,1,...,999999.\n",
      "* There are *N* frequent items, that is, items that occur 10,000 times or more.\n",
      "* There are one million pairs that occur 10,000 times or more.\n",
      "* There are *2M* pairs that occur exactly once. *M* of these pairs consist of two frequent items, the other *M* each have at least one nonfrequent item.\n",
      "* No other pairs occur at all.\n",
      "* Integers are always represented by 4 bytes.\n",
      "\n",
      "Suppose we run the a-priori algorithm to find frequent pairs and can choose on the second pass between the triangular-matrix method for counting candidate pairs (a triangular array count[i][j] that holds an integer count for each pair of items (i, j) where i As a function of N and M, what is the minimum number of bytes of main memory needed to execute the a-priori algorithm on this data? Demonstrate that you have the correct formula by selecting, from the choices below, the triple consisting of values for N, M, and the (approximate, i.e., to within 10%) minumum number of bytes of main memory, S, needed for the a-priori algorithm to execute with this data.\n",
      "\n",
      "N = 10,000; M = 40,000,000; S = 200,000,000\n",
      "\n",
      "N = 30,000; M = 100,000,000; S = 500,000,000\n",
      "\n",
      "N = 10,000; M = 50,000,000; S = 600,000,000\n",
      "\n",
      "N = 50,000; M = 80,000,000; S = 1,500,000,000"
     ]
    },
    {
     "cell_type": "heading",
     "level": 4,
     "metadata": {},
     "source": [
      "Answer 1"
     ]
    },
    {
     "cell_type": "markdown",
     "metadata": {},
     "source": [
      "Compute answer 1 here"
     ]
    },
    {
     "cell_type": "heading",
     "level": 3,
     "metadata": {},
     "source": [
      "Question 2"
     ]
    },
    {
     "cell_type": "markdown",
     "metadata": {},
     "source": [
      "Imagine there are 100 baskets, numbered 1,2,...,100, and 100 items, similarly numbered. Item i is in basket j if and only if i divides j evenly. For example, basket 24 is the set of items {1,2,3,4,6,8,12,24}. Describe all the association rules that have 100% confidence. Which of the following rules has 100% confidence?\n",
      "\n",
      "{1} \u2192 2\n",
      "\n",
      "{8,10} \u2192 20\n",
      "\n",
      "{4,10,12} \u2192 80\n",
      "\n",
      "{2,4} \u2192 8"
     ]
    },
    {
     "cell_type": "heading",
     "level": 4,
     "metadata": {},
     "source": [
      "Answer 2"
     ]
    },
    {
     "cell_type": "markdown",
     "metadata": {},
     "source": [
      "Compute answer 2 here"
     ]
    },
    {
     "cell_type": "heading",
     "level": 3,
     "metadata": {},
     "source": [
      "Question 3"
     ]
    },
    {
     "cell_type": "markdown",
     "metadata": {},
     "source": [
      "Suppose ABC is a frequent itemset and BCDE is NOT a frequent itemset. Given this information, we can be sure that certain other itemsets are frequent and sure that certain itemsets are NOT frequent. Other itemsets may be either frequent or not. Which of the following is a correct classification of an itemset?\n",
      "\n",
      "AC can be either frequent or not frequent.\n",
      "\n",
      "ABCF is frequent.\n",
      "\n",
      "ABCD can be either frequent or not frequent.\n",
      "\n",
      "AB can be either frequent or not frequent."
     ]
    },
    {
     "cell_type": "heading",
     "level": 4,
     "metadata": {},
     "source": [
      "Answer 3"
     ]
    },
    {
     "cell_type": "markdown",
     "metadata": {},
     "source": [
      "Compute answer 3 here"
     ]
    },
    {
     "cell_type": "heading",
     "level": 2,
     "metadata": {},
     "source": [
      "Week 2: Frequent Itemsets (Advanced) "
     ]
    },
    {
     "cell_type": "markdown",
     "metadata": {},
     "source": [
      "Due Date \tMon 20 Oct 2014 11:59 PM PDT; Hard Deadline \tMon 17 Nov 2014 11:59 PM PST"
     ]
    },
    {
     "cell_type": "heading",
     "level": 3,
     "metadata": {},
     "source": [
      "Question 1"
     ]
    },
    {
     "cell_type": "markdown",
     "metadata": {},
     "source": [
      " Suppose we perform the PCY algorithm to find frequent pairs, with market-basket data meeting the following specifications:\n",
      "\n",
      "* *s*, the support threshold, is 10,000.\n",
      "* There are one million items, which are represented by the integers 0,1,...,999999.\n",
      "* There are 250,000 frequent items, that is, items that occur 10,000 times or more.\n",
      "* There are one million pairs that occur 10,000 times or more.\n",
      "* There are *P* pairs that occur exactly once and consist of 2 frequent items.\n",
      "* No other pairs occur at all.\n",
      "* Integers are always represented by 4 bytes.\n",
      "* When we hash pairs, they distribute among buckets randomly, but as evenly as possible; \n",
      "i.e., you may assume that each bucket gets exactly its fair share of the *P* pairs that occur once.\n",
      "\n",
      "Suppose there are *S* bytes of main memory. In order to run the PCY algorithm successfully, \n",
      "the number of buckets must be sufficiently large that most buckets are not large. \n",
      "In addition, on the second pass, there must be enough room to count all the candidate pairs. \n",
      "As a function of *S*, what is the largest value of *P* for which we can successfully run the PCY algorithm on this data?\n",
      "Demonstrate that you have the correct formula by indicating which of the following is a value \n",
      "for *S* and a value for *P* that is approximately (i.e., to within 10%) the largest possible value of *P* for that *S*.\n",
      "\n",
      "S = 300,000,000; P = 750,000,000\n",
      "\n",
      "S = 1,000,000,000; P = 10,000,000,000\n",
      "\n",
      "S = 300,000,000; P = 1,800,000,000\n",
      "\n",
      "S = 500,000,000; P = 10,000,000,000"
     ]
    },
    {
     "cell_type": "heading",
     "level": 4,
     "metadata": {},
     "source": [
      "Answer 1"
     ]
    },
    {
     "cell_type": "markdown",
     "metadata": {},
     "source": [
      "Compute answer 1 here"
     ]
    },
    {
     "cell_type": "heading",
     "level": 3,
     "metadata": {},
     "source": [
      "Question 2"
     ]
    },
    {
     "cell_type": "markdown",
     "metadata": {},
     "source": [
      "During a run of Toivonen's Algorithm with set of items {A,B,C,D,E,F,G,H} a sample is found \n",
      "to have the following maximal frequent itemsets: {A,B}, {A,C}, {A,D}, {B,C}, {E}, {F}. \n",
      "Compute the negative border. Then, identify in the list below the set that is NOT in the negative border.\n",
      "\n",
      "{D,F}\n",
      "\n",
      "{D}\n",
      "\n",
      "{B,E}\n",
      "\n",
      "{A,B,C}"
     ]
    },
    {
     "cell_type": "heading",
     "level": 4,
     "metadata": {},
     "source": [
      "Answer 2"
     ]
    },
    {
     "cell_type": "markdown",
     "metadata": {},
     "source": [
      "Compute answer 2 here"
     ]
    }
   ],
   "metadata": {}
  }
 ]
}