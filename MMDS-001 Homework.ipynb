{
 "metadata": {
  "name": "",
  "signature": "sha256:e4cbcee8889e16ca60570d3f97e1afdf6082f687d3942c7952d79627c3f965af"
 },
 "nbformat": 3,
 "nbformat_minor": 0,
 "worksheets": [
  {
   "cells": [
    {
     "cell_type": "heading",
     "level": 1,
     "metadata": {},
     "source": [
      "Mining Massive Datasets Homework"
     ]
    },
    {
     "cell_type": "markdown",
     "metadata": {},
     "source": [
      "*by Jure Leskovec, Anand Rajaraman, Jeff Ullman*"
     ]
    },
    {
     "cell_type": "heading",
     "level": 2,
     "metadata": {},
     "source": [
      "Homework 1"
     ]
    },
    {
     "cell_type": "markdown",
     "metadata": {},
     "source": [
      "Due Mon 13 Oct 2014 11:59 PM PDT; Hard Deadline Mon 24 Nov 2014 11:59 PM PST"
     ]
    },
    {
     "cell_type": "heading",
     "level": 3,
     "metadata": {},
     "source": [
      "Question 1 (iPython docs suggest that logical sections be Heading cells, not just HTML markup)"
     ]
    },
    {
     "cell_type": "markdown",
     "metadata": {},
     "source": [
      "Consider three Web pages with the following links:\n",
      "![Three Web Pages](files/otc_pagerank2.gif)\n",
      "\n",
      "Suppose we compute PageRank with a \u03b2 of 0.7, and we introduce the additional constraint that the sum of the PageRanks of the three pages must be 3, to handle the problem that otherwise any multiple of a solution will also be a solution. Compute the PageRanks a, b, and c of the three pages A, B, and C, respectively. Then, identify from the list below, the true statement.\n",
      "\n",
      "b + c = 2.735  \n",
      "\n",
      "a + c = 2.745  \n",
      "\n",
      "a + b = 0.705  \n",
      "\n",
      "a + b = 0.55 \n"
     ]
    },
    {
     "cell_type": "heading",
     "level": 4,
     "metadata": {},
     "source": [
      "Answer 1 (this is just the heading; iPython docs suggest that logical sections be Heading cells, not just HTML markup)"
     ]
    },
    {
     "cell_type": "markdown",
     "metadata": {},
     "source": [
      "Replace this with your answer to question 1. Add cells as necessary.\n",
      "\n",
      "Here's an example of mixed markdown and HTML: r<sub>a</sub> + r<sub>b</sub> + r<sub>c</sub> = ?\n",
      "\n",
      "~~Shift-Enter or click the \"Play\" button to transform this markdown source to HTML display.~~"
     ]
    },
    {
     "cell_type": "heading",
     "level": 3,
     "metadata": {},
     "source": [
      "Question 2"
     ]
    },
    {
     "cell_type": "markdown",
     "metadata": {},
     "source": [
      "Consider three Web pages with the following links:\n",
      "![Three Web Pages](files/otc_pagerank3.gif)\n",
      "\n",
      "Suppose we compute PageRank with \u03b2=0.85. \n",
      "Write the equations for the PageRanks a, b, and c of the three pages A, B, and C, respectively. \n",
      "Then, identify in the list below, one of the equations.\n",
      "\n",
      ".95a = .9c + .05b\n",
      "\n",
      "b = .575a + .15c\n",
      "\n",
      "c = .9b + .475a\n",
      "\n",
      "85b = .575a + .15c\n"
     ]
    },
    {
     "cell_type": "heading",
     "level": 4,
     "metadata": {},
     "source": [
      "Answer 2"
     ]
    },
    {
     "cell_type": "markdown",
     "metadata": {},
     "source": [
      "Replace this with your answer to question 2. Add cells as necessary.\n",
      "\n",
      "Here's an example of markdown and a MathJAX/TeX matrix: $\\left( \\begin{matrix} a & b & c \\\\ d & e & f \\\\ g & h & i \\end{matrix} \\right)$\n",
      "\n",
      "Use vmatrix for vertical bars: $\\begin{vmatrix} a & b & c \\\\ d & e & f \\\\ g & h & i \\end{vmatrix}$\n",
      "\n",
      "~~Shift-Enter or click the \"Play\" button to transform this markdown source to HTML display.~~"
     ]
    },
    {
     "cell_type": "heading",
     "level": 3,
     "metadata": {},
     "source": [
      "Question 3"
     ]
    },
    {
     "cell_type": "markdown",
     "metadata": {},
     "source": [
      "Consider three Web pages with the following links:\n",
      "![Three Web Pages](files/otc_pagerank3.gif)\n",
      "\n",
      "Assuming no \"taxation,\" compute the PageRanks a, b, and c of the three pages A, B, and C, using iteration, starting with the \"0th\" iteration where all three pages have rank a = b = c = 1. Compute as far as the 5th iteration, and also determine what the PageRanks are in the limit. Then, identify the true statement from the list below.\n",
      "\n",
      "After iteration 5, c = 7/4\n",
      "\n",
      "After iteration 5, c = 1\n",
      "\n",
      "In the limit, c = 9/7\n",
      "\n",
      "After iteration 5, a = 5/4\n"
     ]
    },
    {
     "cell_type": "heading",
     "level": 4,
     "metadata": {},
     "source": [
      "Answer 3"
     ]
    },
    {
     "cell_type": "markdown",
     "metadata": {},
     "source": [
      "Replace this with your answer to question 3. Add cells as necessary.\n",
      "\n",
      "~~Shift-Enter or click the \"Play\" button to transform this markdown source to HTML display.~~"
     ]
    },
    {
     "cell_type": "heading",
     "level": 3,
     "metadata": {},
     "source": [
      "Question 4"
     ]
    },
    {
     "cell_type": "markdown",
     "metadata": {},
     "source": [
      "Suppose our input data to a map-reduce operation consists of integer values (the keys are not important). The map function takes an integer i and produces the list of pairs (p,i) such that p is a prime divisor of i. For example, map(12) = [(2,12), (3,12)].\n",
      "\n",
      "The reduce function is addition. That is, reduce(_p_, [_i_<sub>1</sub>, _i_<sub>2</sub>, ...,_i_<sub>_k_</sub>])\n",
      "is (_p_,_i_<sub>1</sub>+_i_<sub>2</sub>+...+_i_<sub>_k_</sub>).\n",
      "\n",
      "Compute the output, if the input is the set of integers 15, 21, 24, 30, 49. Then, identify, in the list below, one of the pairs in the output.\n",
      "\n",
      "(7,119)\n",
      "\n",
      "(6,54)\n",
      "\n",
      "(3,75)\n",
      "\n",
      "(3,90)\n"
     ]
    },
    {
     "cell_type": "heading",
     "level": 4,
     "metadata": {},
     "source": [
      "Answer 4."
     ]
    },
    {
     "cell_type": "code",
     "collapsed": false,
     "input": [
      "#Replace this with your answer to question 4. Add cells as necessary.\n",
      "\n",
      "#Here's an example of inline python\n",
      "\n",
      "def flattenList(twoDList):\n",
      "    return [ i for sublist in twoDList for i in sublist]\n",
      "\n",
      "twoD = [[(1, 1), (2, 2)], [(1, 2), (2, 1)]]\n",
      "\n",
      "print twoD\n",
      "print flattenList(twoD)\n",
      "print sorted(flattenList(twoD))\n",
      "\n",
      "#Shift-Enter or click the \"Play\" button to run this python script."
     ],
     "language": "python",
     "metadata": {},
     "outputs": [
      {
       "output_type": "stream",
       "stream": "stdout",
       "text": [
        "[[(1, 1), (2, 2)], [(1, 2), (2, 1)]]\n",
        "[(1, 1), (2, 2), (1, 2), (2, 1)]\n",
        "[(1, 1), (1, 2), (2, 1), (2, 2)]\n"
       ]
      }
     ],
     "prompt_number": 5
    },
    {
     "cell_type": "heading",
     "level": 2,
     "metadata": {},
     "source": [
      "Week 2: LSH (Basic) "
     ]
    },
    {
     "cell_type": "markdown",
     "metadata": {},
     "source": [
      "Due Date Mon 20 Oct 2014 11:59 PM PDT; Hard Deadline Mon 17 Nov 2014 11:59 PM PST"
     ]
    },
    {
     "cell_type": "heading",
     "level": 3,
     "metadata": {},
     "source": [
      "Question 1"
     ]
    },
    {
     "cell_type": "markdown",
     "metadata": {},
     "source": [
      "The edit distance is the minimum number of character insertions and character deletions required to turn one string into another. Compute the edit distance between each pair of the strings he, she, his, and hers. Then, identify which of the following is a true statement about the number of pairs at a certain edit distance.\n",
      "\n",
      "There are 2 pairs at distance 3.\n",
      "\n",
      "There is 1 pair at distance 5.\n",
      "\n",
      "There are 2 pairs at distance 2.\n",
      "\n",
      "There is 1 pair at distance 2."
     ]
    },
    {
     "cell_type": "heading",
     "level": 4,
     "metadata": {},
     "source": [
      "Answer 1"
     ]
    },
    {
     "cell_type": "markdown",
     "metadata": {},
     "source": [
      "Compute answer 1 here"
     ]
    },
    {
     "cell_type": "heading",
     "level": 3,
     "metadata": {},
     "source": [
      "Question 2"
     ]
    },
    {
     "cell_type": "markdown",
     "metadata": {},
     "source": [
      "\n",
      "Consider the following matrix:\n",
      "\n",
      "|   |C1 |C2 |C3 |C4|\n",
      "|---|:-|:-|:-|:-|\n",
      "|R1 |0 |1 |1 |0|\n",
      "|R2 |1 |0 |1 |1|\n",
      "|R3 |0 |1 |0 |1|\n",
      "|R4 |0 |0 |1 |0|\n",
      "|R5 |1 |0 |1 |0|\n",
      "|R6 |0 |1 |0 |0|\n",
      "\n",
      "\n",
      "Perform a minhashing of the data, with the order of rows: R4, R6, R1, R3, R5, R2. Which of the following is the correct minhash value of the stated column? **Note:** we give the minhash value in terms of the original name of the row, rather than the order of the row in the permutation. These two schemes are equivalent, since we only care whether hash values for two columns are equal, not what their actual values are.\n",
      "\n",
      "The minhash value for C3 is R5\n",
      "\n",
      "The minhash value for C2 is R6\n",
      "\n",
      "The minhash value for C4 is R5\n",
      "\n",
      "The minhash value for C2 is R3\n"
     ]
    },
    {
     "cell_type": "heading",
     "level": 4,
     "metadata": {},
     "source": [
      "Answer 2"
     ]
    },
    {
     "cell_type": "markdown",
     "metadata": {},
     "source": [
      "Compute answer 2 here"
     ]
    },
    {
     "cell_type": "heading",
     "level": 3,
     "metadata": {},
     "source": [
      "Question 3"
     ]
    },
    {
     "cell_type": "markdown",
     "metadata": {},
     "source": [
      "Here is a matrix representing the signatures of seven columns, C1 through C7. \n",
      "\n",
      "|C1 |C2 |C3 |C4 |C5 |C6 |C7|\n",
      "|:-|:-|:-|:-|:-|:-|:-|\n",
      "|1 |2 |1 |1 |2 |5 |4|\n",
      "|2 |3 |4 |2 |3 |2 |2|\n",
      "|3 |1 |2 |3 |1 |3 |2|\n",
      "|4 |1 |3 |1 |2 |4 |4|\n",
      "|5 |2 |5 |1 |1 |5 |1|\n",
      "|6 |1 |6 |4 |1 |1 |4|\n",
      "\n",
      " Suppose we use locality-sensitive hashing with three bands of two rows each. Assume there are enough buckets available that the hash function for each band can be the identity function (i.e., columns hash to the same bucket if and only if they are identical in the band). Find all the candidate pairs, and then identify one of them in the list below.\n",
      "\n",
      "C4 and C6\n",
      "\n",
      "C2 and C4\n",
      "\n",
      "C1 and C3\n",
      "\n",
      "C3 and C5\n"
     ]
    },
    {
     "cell_type": "heading",
     "level": 4,
     "metadata": {},
     "source": [
      "Answer 3"
     ]
    },
    {
     "cell_type": "markdown",
     "metadata": {},
     "source": [
      "Compute answer 3 here"
     ]
    },
    {
     "cell_type": "heading",
     "level": 3,
     "metadata": {},
     "source": [
      "Question 4"
     ]
    },
    {
     "cell_type": "markdown",
     "metadata": {},
     "source": [
      "Find the set of 2-shingles for the \"document\":\n",
      "\n",
      "<blockquote><font color='blue'>ABRACADABRA</font></blockquote>\n",
      "\n",
      "and also for the \"document\":\n",
      "\n",
      "<blockquote><font color='blue'>BRICABRAC</font></blockquote>\n",
      "\n",
      "Answer the following questions:\n",
      "\n",
      "* How many 2-shingles does ABRACADABRA have?\n",
      "* How many 2-shingles does BRICABRAC have?\n",
      "* How many 2-shingles do they have in common?\n",
      "* What is the Jaccard similarity between the two documents\"?\n",
      "\n",
      "Then, find the true statement in the list below.\n",
      "\n",
      "The Jaccard similarity is 4/7.\n",
      "\n",
      "BRICABRAC has 7 2-shingles.\n",
      "\n",
      "BRICABRAC has 8 2-shingles.\n",
      "\n",
      "There are 4 shingles in common."
     ]
    },
    {
     "cell_type": "heading",
     "level": 4,
     "metadata": {},
     "source": [
      "Answer 4"
     ]
    },
    {
     "cell_type": "markdown",
     "metadata": {},
     "source": [
      "Compute answer 4 here"
     ]
    },
    {
     "cell_type": "heading",
     "level": 3,
     "metadata": {},
     "source": [
      "Question 5"
     ]
    },
    {
     "cell_type": "markdown",
     "metadata": {},
     "source": [
      "<font color='blue'>\n",
      "s<sub>1</sub> = abcef  \n",
      "s<sub>2</sub> = acdeg  \n",
      "s<sub>3</sub> = bcdefg  \n",
      "s<sub>4</sub> = adfg  \n",
      "s<sub>5</sub> = bcdfgh  \n",
      "s<sub>6</sub> = bceg  \n",
      "s<sub>7</sub> = cdfg  \n",
      "s<sub>8</sub> = abcd\n",
      "</font>\n",
      "\n",
      "Suppose our upper limit on Jaccard distance is 0.2, and we use the indexing scheme of Section 3.9.4 based on symbols appearing in the prefix (no position or length information). For each of s<sub>1</sub>, s<sub>3</sub>, and s<sub>6</sub>, determine how many other strings that string will be compared with, if it is used as the probe string. Then, identify the true count from the list below.\n",
      "\n",
      "s3 is compared with 2 other strings.\n",
      "\n",
      "s6 is compared with 3 other strings.\n",
      "\n",
      "s6 is compared with 2 other strings.\n",
      "\n",
      "s6 is compared with 5 other strings."
     ]
    },
    {
     "cell_type": "heading",
     "level": 4,
     "metadata": {},
     "source": [
      "Answer 5"
     ]
    },
    {
     "cell_type": "markdown",
     "metadata": {},
     "source": [
      "Compute answer 5 here"
     ]
    },
    {
     "cell_type": "heading",
     "level": 3,
     "metadata": {},
     "source": [
      "Question 6"
     ]
    },
    {
     "cell_type": "markdown",
     "metadata": {},
     "source": [
      "Suppose we want to assign points to whichever of the points (0,0) or (100,40) is nearer. Depending on whether we use the L<sub>1</sub> or L<sub>2</sub> norm, a point (x,y) could be clustered with a different one of these two points. For this problem, you should work out the conditions under which a point will be assigned to (0,0) when the L<sub>1</sub> norm is used, but assigned to (100,40) when the L<sub>2</sub> norm is used. Identify one of those points from the list below.\n",
      "\n",
      "(58,13)\n",
      "\n",
      "(63,8)\n",
      "\n",
      "(66,5)\n",
      "\n",
      "(61,8)"
     ]
    },
    {
     "cell_type": "heading",
     "level": 4,
     "metadata": {},
     "source": [
      "Answer 6"
     ]
    },
    {
     "cell_type": "markdown",
     "metadata": {},
     "source": [
      "Compute aswer 6 here"
     ]
    },
    {
     "cell_type": "heading",
     "level": 2,
     "metadata": {},
     "source": [
      "Week 2: Frequent Itemsets (Basic) "
     ]
    },
    {
     "cell_type": "markdown",
     "metadata": {},
     "source": [
      "Due Date Mon 20 Oct 2014 11:59 PM PDT; Hard Deadline Mon 17 Nov 2014 11:59 PM PST"
     ]
    },
    {
     "cell_type": "heading",
     "level": 3,
     "metadata": {},
     "source": [
      "Question 1"
     ]
    },
    {
     "cell_type": "markdown",
     "metadata": {},
     "source": [
      "Suppose we have transactions that satisfy the following assumptions:\n",
      "\n",
      "* *s*, the support threshold, is 10,000.\n",
      "* There are one million items, which are represented by the integers 0,1,...,999999.\n",
      "* There are *N* frequent items, that is, items that occur 10,000 times or more.\n",
      "* There are one million pairs that occur 10,000 times or more.\n",
      "* There are *2M* pairs that occur exactly once. *M* of these pairs consist of two frequent items, the other *M* each have at least one nonfrequent item.\n",
      "* No other pairs occur at all.\n",
      "* Integers are always represented by 4 bytes.\n",
      "\n",
      "Suppose we run the a-priori algorithm to find frequent pairs and can choose on the second pass between the triangular-matrix method for counting candidate pairs (a triangular array count[i][j] that holds an integer count for each pair of items (i, j) where i As a function of N and M, what is the minimum number of bytes of main memory needed to execute the a-priori algorithm on this data? Demonstrate that you have the correct formula by selecting, from the choices below, the triple consisting of values for N, M, and the (approximate, i.e., to within 10%) minumum number of bytes of main memory, S, needed for the a-priori algorithm to execute with this data.\n",
      "\n",
      "N = 10,000; M = 40,000,000; S = 200,000,000\n",
      "\n",
      "N = 30,000; M = 100,000,000; S = 500,000,000\n",
      "\n",
      "N = 10,000; M = 50,000,000; S = 600,000,000\n",
      "\n",
      "N = 50,000; M = 80,000,000; S = 1,500,000,000"
     ]
    },
    {
     "cell_type": "heading",
     "level": 4,
     "metadata": {},
     "source": [
      "Answer 1"
     ]
    },
    {
     "cell_type": "markdown",
     "metadata": {},
     "source": [
      "Compute answer 1 here"
     ]
    },
    {
     "cell_type": "heading",
     "level": 3,
     "metadata": {},
     "source": [
      "Question 2"
     ]
    },
    {
     "cell_type": "markdown",
     "metadata": {},
     "source": [
      "Imagine there are 100 baskets, numbered 1,2,...,100, and 100 items, similarly numbered. Item i is in basket j if and only if i divides j evenly. For example, basket 24 is the set of items {1,2,3,4,6,8,12,24}. Describe all the association rules that have 100% confidence. Which of the following rules has 100% confidence?\n",
      "\n",
      "{1} \u2192 2\n",
      "\n",
      "{8,10} \u2192 20\n",
      "\n",
      "{4,10,12} \u2192 80\n",
      "\n",
      "{2,4} \u2192 8"
     ]
    },
    {
     "cell_type": "heading",
     "level": 4,
     "metadata": {},
     "source": [
      "Answer 2"
     ]
    },
    {
     "cell_type": "markdown",
     "metadata": {},
     "source": [
      "Compute answer 2 here"
     ]
    },
    {
     "cell_type": "heading",
     "level": 3,
     "metadata": {},
     "source": [
      "Question 3"
     ]
    },
    {
     "cell_type": "markdown",
     "metadata": {},
     "source": [
      "Suppose ABC is a frequent itemset and BCDE is NOT a frequent itemset. Given this information, we can be sure that certain other itemsets are frequent and sure that certain itemsets are NOT frequent. Other itemsets may be either frequent or not. Which of the following is a correct classification of an itemset?\n",
      "\n",
      "AC can be either frequent or not frequent.\n",
      "\n",
      "ABCF is frequent.\n",
      "\n",
      "ABCD can be either frequent or not frequent.\n",
      "\n",
      "AB can be either frequent or not frequent."
     ]
    },
    {
     "cell_type": "heading",
     "level": 4,
     "metadata": {},
     "source": [
      "Answer 3"
     ]
    },
    {
     "cell_type": "markdown",
     "metadata": {},
     "source": [
      "Compute answer 3 here"
     ]
    },
    {
     "cell_type": "heading",
     "level": 2,
     "metadata": {},
     "source": [
      "Week 2: Frequent Itemsets (Advanced) "
     ]
    },
    {
     "cell_type": "markdown",
     "metadata": {},
     "source": [
      "Due Date \tMon 20 Oct 2014 11:59 PM PDT; Hard Deadline \tMon 17 Nov 2014 11:59 PM PST"
     ]
    },
    {
     "cell_type": "heading",
     "level": 3,
     "metadata": {},
     "source": [
      "Question 1"
     ]
    },
    {
     "cell_type": "markdown",
     "metadata": {},
     "source": [
      " Suppose we perform the PCY algorithm to find frequent pairs, with market-basket data meeting the following specifications:\n",
      "\n",
      "* *s*, the support threshold, is 10,000.\n",
      "* There are one million items, which are represented by the integers 0,1,...,999999.\n",
      "* There are 250,000 frequent items, that is, items that occur 10,000 times or more.\n",
      "* There are one million pairs that occur 10,000 times or more.\n",
      "* There are *P* pairs that occur exactly once and consist of 2 frequent items.\n",
      "* No other pairs occur at all.\n",
      "* Integers are always represented by 4 bytes.\n",
      "* When we hash pairs, they distribute among buckets randomly, but as evenly as possible; \n",
      "i.e., you may assume that each bucket gets exactly its fair share of the *P* pairs that occur once.\n",
      "\n",
      "Suppose there are *S* bytes of main memory. In order to run the PCY algorithm successfully, \n",
      "the number of buckets must be sufficiently large that most buckets are not large. \n",
      "In addition, on the second pass, there must be enough room to count all the candidate pairs. \n",
      "As a function of *S*, what is the largest value of *P* for which we can successfully run the PCY algorithm on this data?\n",
      "Demonstrate that you have the correct formula by indicating which of the following is a value \n",
      "for *S* and a value for *P* that is approximately (i.e., to within 10%) the largest possible value of *P* for that *S*.\n",
      "\n",
      "S = 300,000,000; P = 750,000,000\n",
      "\n",
      "S = 1,000,000,000; P = 10,000,000,000\n",
      "\n",
      "S = 300,000,000; P = 1,800,000,000\n",
      "\n",
      "S = 500,000,000; P = 10,000,000,000"
     ]
    },
    {
     "cell_type": "heading",
     "level": 4,
     "metadata": {},
     "source": [
      "Answer 1"
     ]
    },
    {
     "cell_type": "markdown",
     "metadata": {},
     "source": [
      "Compute answer 1 here"
     ]
    },
    {
     "cell_type": "heading",
     "level": 3,
     "metadata": {},
     "source": [
      "Question 2"
     ]
    },
    {
     "cell_type": "markdown",
     "metadata": {},
     "source": [
      "During a run of Toivonen's Algorithm with set of items {A,B,C,D,E,F,G,H} a sample is found \n",
      "to have the following maximal frequent itemsets: {A,B}, {A,C}, {A,D}, {B,C}, {E}, {F}. \n",
      "Compute the negative border. Then, identify in the list below the set that is NOT in the negative border.\n",
      "\n",
      "{D,F}\n",
      "\n",
      "{D}\n",
      "\n",
      "{B,E}\n",
      "\n",
      "{A,B,C}"
     ]
    },
    {
     "cell_type": "heading",
     "level": 4,
     "metadata": {},
     "source": [
      "Answer 2"
     ]
    },
    {
     "cell_type": "markdown",
     "metadata": {},
     "source": [
      "Compute answer 2 here"
     ]
    },
    {
     "cell_type": "heading",
     "level": 2,
     "metadata": {},
     "source": [
      "Week3B (Basic) "
     ]
    },
    {
     "cell_type": "markdown",
     "metadata": {},
     "source": [
      "Due Date Mon 27 Oct 2014 11:59 PM PDT; Hard Deadline Mon 17 Nov 2014 11:59 PM PST"
     ]
    },
    {
     "cell_type": "heading",
     "level": 3,
     "metadata": {},
     "source": [
      "Question 1"
     ]
    },
    {
     "cell_type": "markdown",
     "metadata": {},
     "source": [
      "<div dir=\"auto\" class=\"course-quiz-question-text\">Suppose we hash the elements of a set S having 20 members, to a bit array of length 99. The array is initially all-0's, and we set a bit to 1 whenever a member of S hashes to it. The hash function is random and uniform in its distribution. What is the expected fraction of 0's in the array after hashing? What is the expected fraction of 1's? You may assume that 99 is large enough that asymptotic limits are reached.\n",
      "</div>\n",
      "<div dir=\"auto\" class=\"course-quiz-options\">\n",
      "<div class=\"course-quiz-option\">\n",
      "<input dir=\"auto\" class=\"course-quiz-input\" name=\"answer[1fede9f10a9af0fb78f1d4a56bcf56c0][]\" id=\"gensym_544fedc056e1d\" value=\"0bc1ac6134c68285b048576907301b43\" type=\"radio\"><label for=\"gensym_544fedc056e1d\" style=\"cursor:pointer;\">The fraction of 0's is 1-e<sup>-79/99</sup>.&nbsp;\n",
      "</label>\n",
      "</div>\n",
      "<div class=\"course-quiz-option\">\n",
      "<input dir=\"auto\" class=\"course-quiz-input\" name=\"answer[1fede9f10a9af0fb78f1d4a56bcf56c0][]\" id=\"gensym_544fedc0574d6\" value=\"a896eeb52d0013b3f3d5d79bb41985e4\" type=\"radio\"><label for=\"gensym_544fedc0574d6\" style=\"cursor:pointer;\">The fraction of 1's is e<sup>-79/99</sup>.&nbsp;\n",
      "</label>\n",
      "</div>\n",
      "<div class=\"course-quiz-option\">\n",
      "<input dir=\"auto\" class=\"course-quiz-input\" name=\"answer[1fede9f10a9af0fb78f1d4a56bcf56c0][]\" id=\"gensym_544fedc057b14\" value=\"4d0a85d8883d9867aa5a0de9e827a1d7\" type=\"radio\"><label for=\"gensym_544fedc057b14\" style=\"cursor:pointer;\">The fraction of 1's is 1-e<sup>-20/99</sup>.&nbsp;\n",
      "</label>\n",
      "</div>\n",
      "<div class=\"course-quiz-option\">\n",
      "<input dir=\"auto\" class=\"course-quiz-input\" name=\"answer[1fede9f10a9af0fb78f1d4a56bcf56c0][]\" id=\"gensym_544fedc05818e\" value=\"b0f760c9581a5511875818537ca21b46\" type=\"radio\"><label for=\"gensym_544fedc05818e\" style=\"cursor:pointer;\">The fraction of 1's is 20/99. \n",
      "</label>\n",
      "</div>"
     ]
    },
    {
     "cell_type": "heading",
     "level": 4,
     "metadata": {},
     "source": [
      "Answer 1"
     ]
    },
    {
     "cell_type": "markdown",
     "metadata": {},
     "source": [
      "Compute answer here"
     ]
    },
    {
     "cell_type": "heading",
     "level": 3,
     "metadata": {},
     "source": [
      "Question 2"
     ]
    },
    {
     "cell_type": "markdown",
     "metadata": {},
     "source": [
      "A certain Web mail service (like gmail, e.g.) has 10<sup>8</sup>\n",
      "users, and wishes to create a sample of data about these users,\n",
      "occupying 10<sup>10</sup> bytes.  Activity at the service can\n",
      "be viewed as a stream of elements, each of which is an email.\n",
      "The element contains the ID of the sender, which must be one of the\n",
      "10<sup>8</sup> users of the service, and other information,\n",
      "e.g., the recipient(s), and contents of the message.\n",
      "The plan is to pick a subset of the users and collect in the\n",
      "10<sup>10</sup> bytes records of length 100 bytes about every\n",
      "email sent by the users in the selected set (and nothing about\n",
      "other users).\n",
      "<p>\n",
      "The method of Section 4.2.4 will be used.  User ID's will be\n",
      "hashed to a bucket number, from 0 to 999,999.  At all times, there\n",
      "will be a threshold t such that the 100-byte records for all the users whose\n",
      "ID's hash to t or less will be retained, and other users' records\n",
      "will not be retained.  You may assume that each user generates\n",
      "emails at exactly the same rate as other users.\n",
      "As a function of n, the number of emails in the stream so far,\n",
      "what should the threshold t be in order that the selected records\n",
      "will not exceed the 10<sup>10</sup> bytes available to store records?\n",
      "From the list below, identify the true statement about a value of n\n",
      "and its value of t.</p>\n",
      "</div>\n",
      "<div dir=\"auto\" class=\"course-quiz-options\">\n",
      "<div class=\"course-quiz-option\">\n",
      "<input dir=\"auto\" class=\"course-quiz-input\" name=\"answer[6ada92e77b7a46c4a4a9c23f559e97b1][]\" id=\"gensym_544fedc05b5f2\" value=\"2f09fd2efe405419678760f5cedf12be\" type=\"radio\"><label for=\"gensym_544fedc05b5f2\" style=\"cursor:pointer;\">n = 10<sup>10</sup>; t = 100,000</label>\n",
      "</div>\n",
      "<div class=\"course-quiz-option\">\n",
      "<input dir=\"auto\" class=\"course-quiz-input\" name=\"answer[6ada92e77b7a46c4a4a9c23f559e97b1][]\" id=\"gensym_544fedc05bd57\" value=\"88380dbb45f4699e9ac8c03a72d88e24\" type=\"radio\"><label for=\"gensym_544fedc05bd57\" style=\"cursor:pointer;\">n = 10<sup>13</sup>; t = 99</label>\n",
      "</div>\n",
      "<div class=\"course-quiz-option\">\n",
      "<input dir=\"auto\" class=\"course-quiz-input\" name=\"answer[6ada92e77b7a46c4a4a9c23f559e97b1][]\" id=\"gensym_544fedc05c505\" value=\"3890033a5ccdd456e4350a5353a7c3b5\" type=\"radio\"><label for=\"gensym_544fedc05c505\" style=\"cursor:pointer;\">n = 10<sup>11</sup>; t = 1000</label>\n",
      "</div>\n",
      "<div class=\"course-quiz-option\">\n",
      "<input dir=\"auto\" class=\"course-quiz-input\" name=\"answer[6ada92e77b7a46c4a4a9c23f559e97b1][]\" id=\"gensym_544fedc05cc94\" value=\"afe79946f5b76b85cd66c48c766aa69e\" type=\"radio\"><label for=\"gensym_544fedc05cc94\" style=\"cursor:pointer;\">n = 10<sup>13</sup>; t = 9</label>"
     ]
    },
    {
     "cell_type": "heading",
     "level": 4,
     "metadata": {},
     "source": [
      "Answer 2"
     ]
    },
    {
     "cell_type": "markdown",
     "metadata": {},
     "source": [
      "Compute answer 2 here"
     ]
    },
    {
     "cell_type": "heading",
     "level": 2,
     "metadata": {},
     "source": [
      "Week3A (Advanced) "
     ]
    },
    {
     "cell_type": "markdown",
     "metadata": {},
     "source": [
      "Due Date Mon 27 Oct 2014 11:59 PM PDT; Hard Deadline Mon 17 Nov 2014 11:59 PM PST"
     ]
    },
    {
     "cell_type": "heading",
     "level": 2,
     "metadata": {},
     "source": [
      "Question 1"
     ]
    },
    {
     "cell_type": "markdown",
     "metadata": {},
     "source": [
      "<div dir=\"auto\" class=\"course-quiz-question-text\">For the following graph:\n",
      "<p>\n",
      "</p>\n",
      "<pre>   C -- D -- E\n",
      " / |    |    | \\\n",
      "A  |    |    |  B\n",
      " \\ |    |    | /\n",
      "   F -- G -- H\n",
      "</pre>\n",
      "Write the adjacency matrix A, the degree matrix D, and the Laplacian matrix L.\n",
      "For each, find the sum of all entries and the number of nonzero entries.\n",
      "Then identify the true statement from the list below.</div>\n",
      "<div dir=\"auto\" class=\"course-quiz-options\">\n",
      "<div class=\"course-quiz-option\">\n",
      "<input dir=\"auto\" class=\"course-quiz-input\" name=\"answer[612df37212bc5a4292f4e1c368aa1d72][]\" id=\"gensym_544ff012bd88c\" value=\"49c54d1f2190f33db0577aaefd077daa\" type=\"radio\"><label for=\"gensym_544ff012bd88c\" style=\"cursor:pointer;\">D has 16 nonzero entries. </label>\n",
      "</div>\n",
      "<div class=\"course-quiz-option\">\n",
      "<input dir=\"auto\" class=\"course-quiz-input\" name=\"answer[612df37212bc5a4292f4e1c368aa1d72][]\" id=\"gensym_544ff012be1c0\" value=\"03c8298842f1dc9ce710ede94d1741f6\" type=\"radio\"><label for=\"gensym_544ff012be1c0\" style=\"cursor:pointer;\">A has 11 nonzero entries. </label>\n",
      "</div>\n",
      "<div class=\"course-quiz-option\">\n",
      "<input dir=\"auto\" class=\"course-quiz-input\" name=\"answer[612df37212bc5a4292f4e1c368aa1d72][]\" id=\"gensym_544ff012beb10\" value=\"13023753f5fea7b9fc2d055d1208473a\" type=\"radio\"><label for=\"gensym_544ff012beb10\" style=\"cursor:pointer;\">The sum of the entries of L is 8. </label>\n",
      "</div>\n",
      "<div class=\"course-quiz-option\">\n",
      "<input dir=\"auto\" class=\"course-quiz-input\" name=\"answer[612df37212bc5a4292f4e1c368aa1d72][]\" id=\"gensym_544ff012bf3d2\" value=\"8688193901a1eaeadf9e3c7ec319e7eb\" type=\"radio\"><label for=\"gensym_544ff012bf3d2\" style=\"cursor:pointer;\">D has 8 nonzero entries. </label>\n",
      "</div>\n",
      "</div>\n",
      "</div>"
     ]
    },
    {
     "cell_type": "heading",
     "level": 4,
     "metadata": {},
     "source": [
      "Answer 1"
     ]
    },
    {
     "cell_type": "markdown",
     "metadata": {},
     "source": [
      "Compute answer here"
     ]
    },
    {
     "cell_type": "heading",
     "level": 2,
     "metadata": {},
     "source": [
      "Question 2"
     ]
    },
    {
     "cell_type": "markdown",
     "metadata": {},
     "source": [
      "<div dir=\"auto\" class=\"course-quiz-question-text\">You are given the following graph.\n",
      "<p></p>\n",
      "<pre>   2 ----6\n",
      " /  \\    |\n",
      "1    4   |\n",
      " \\  /  \\ |\n",
      "  3      5 \n",
      "</pre>\n",
      "<p></p>\n",
      "<p>\n",
      "The goal is to find two clusters in this graph using Spectral Clustering on the Laplacian matrix.\n",
      "Compute the Laplacian of this graph. Then compute the second eigen vector of the Laplacian (the one corresponding to the second smallest eigenvalue).\n",
      "</p>\n",
      "<p></p>\n",
      "<p>\n",
      "To cluster the points, we decide to split at the mean value. We say that a node is a tie if its value in the eigen-vector is exactly equal to the mean value. Let's assume that if a point is a tie, we choose its cluster at random.\n",
      "Identify the true statement from the list below.</p>\n",
      "</div>\n",
      "<div dir=\"auto\" class=\"course-quiz-options\">\n",
      "<div class=\"course-quiz-option\">\n",
      "<input dir=\"auto\" class=\"course-quiz-input\" name=\"answer[42a32daa12739584b7266dd1d9500ef4][]\" id=\"gensym_544ff012c256f\" value=\"17aa5207e3e7d57820459f974687ef49\" type=\"radio\"><label for=\"gensym_544ff012c256f\" style=\"cursor:pointer;\">4 and 6 can either be in the same cluster or in different clusters (depending on randomness)</label>\n",
      "</div>\n",
      "<div class=\"course-quiz-option\">\n",
      "<input dir=\"auto\" class=\"course-quiz-input\" name=\"answer[42a32daa12739584b7266dd1d9500ef4][]\" id=\"gensym_544ff012c2cb9\" value=\"c6a552afb0c213b065ce6f296601c8ef\" type=\"radio\"><label for=\"gensym_544ff012c2cb9\" style=\"cursor:pointer;\">4 and 5 are in the same cluster</label>\n",
      "</div>\n",
      "<div class=\"course-quiz-option\">\n",
      "<input dir=\"auto\" class=\"course-quiz-input\" name=\"answer[42a32daa12739584b7266dd1d9500ef4][]\" id=\"gensym_544ff012c3452\" value=\"6f861176b6c48da1a8432100890b59b3\" type=\"radio\"><label for=\"gensym_544ff012c3452\" style=\"cursor:pointer;\">5 and 6 can either be in the same cluster or in different clusters (depending on randomness)</label>\n",
      "</div>\n",
      "<div class=\"course-quiz-option\">\n",
      "<input dir=\"auto\" class=\"course-quiz-input\" name=\"answer[42a32daa12739584b7266dd1d9500ef4][]\" id=\"gensym_544ff012c3bac\" value=\"0a3fd9e33f3f300f7728ac02938705e2\" type=\"radio\"><label for=\"gensym_544ff012c3bac\" style=\"cursor:pointer;\">2 and 5 are in different clusters</label>\n",
      "</div>\n",
      "</div>\n",
      "</div>\n"
     ]
    },
    {
     "cell_type": "heading",
     "level": 4,
     "metadata": {},
     "source": [
      "Answer 2"
     ]
    },
    {
     "cell_type": "markdown",
     "metadata": {},
     "source": [
      "Compute answer here"
     ]
    },
    {
     "cell_type": "heading",
     "level": 2,
     "metadata": {},
     "source": [
      "Question 3"
     ]
    },
    {
     "cell_type": "markdown",
     "metadata": {},
     "source": [
      "<div dir=\"auto\" class=\"course-quiz-question-text\">We wish to estimate the surprise number (2nd moment) of a data stream, using the\n",
      "method of AMS.  It happens that our stream consists of ten different values,\n",
      "which we'll call 1, 2,..., 10, that cycle repeatedly.  That is, at timestamps\n",
      "1 through 10, the element of the stream equals the timestamp, at timestamps\n",
      "11 through 20, the element is the timestamp minus 10, and so on.  It is now timestamp\n",
      "75, and a 5 has just been read from the stream.  As a start, you should calculate\n",
      "the surprise number for this time.\n",
      "<p>\n",
      "For our estimate of the surprise number, we shall choose three timestamps\n",
      "at random, and estimate the surprise number from each, using the AMS approach\n",
      "(length of the stream times 2<i>m</i>-1, where <i>m</i> is the number of occurrences\n",
      "of the element of the stream at that timestamp, considering all times from that\n",
      "timestamp on, to the current time).  Then, our estimate will be the median of the\n",
      "three resulting values.\n",
      "</p>\n",
      "<p>\n",
      "You should discover the simple rules that determine the estimate derived from\n",
      "any given timestamp and from any set of three timestamps.  Then, identify from the\n",
      "list below the set of three \"random\" timestamps that give the closest estimate.</p>\n",
      "</div>\n",
      "<div dir=\"auto\" class=\"course-quiz-options\">\n",
      "<div class=\"course-quiz-option\">\n",
      "<input dir=\"auto\" class=\"course-quiz-input\" name=\"answer[fc0e386e677f123ca23549cc122c90d9][]\" id=\"gensym_544ff012c6f2e\" value=\"da33ac971fac070ec6596d629cf3af8e\" type=\"radio\"><label for=\"gensym_544ff012c6f2e\" style=\"cursor:pointer;\">{22, 42, 62} \n",
      "</label>\n",
      "</div>\n",
      "<div class=\"course-quiz-option\">\n",
      "<input dir=\"auto\" class=\"course-quiz-input\" name=\"answer[fc0e386e677f123ca23549cc122c90d9][]\" id=\"gensym_544ff012c7696\" value=\"c3e23c3ae72f0fc56b0234aad9882a0b\" type=\"radio\"><label for=\"gensym_544ff012c7696\" style=\"cursor:pointer;\">{4, 31, 72} \n",
      "</label>\n",
      "</div>\n",
      "<div class=\"course-quiz-option\">\n",
      "<input dir=\"auto\" class=\"course-quiz-input\" name=\"answer[fc0e386e677f123ca23549cc122c90d9][]\" id=\"gensym_544ff012c7dd1\" value=\"f6f62df97a821925f3fbf7b32655eed5\" type=\"radio\"><label for=\"gensym_544ff012c7dd1\" style=\"cursor:pointer;\">{25, 34, 47} \n",
      "</label>\n",
      "</div>\n",
      "<div class=\"course-quiz-option\">\n",
      "<input dir=\"auto\" class=\"course-quiz-input\" name=\"answer[fc0e386e677f123ca23549cc122c90d9][]\" id=\"gensym_544ff012c84ca\" value=\"0c0ff98799c205e15acb6311ce2fa885\" type=\"radio\"><label for=\"gensym_544ff012c84ca\" style=\"cursor:pointer;\">{14, 35, 42} \n",
      "</label>\n",
      "</div>\n",
      "</div>\n",
      "</div>"
     ]
    },
    {
     "cell_type": "heading",
     "level": 4,
     "metadata": {},
     "source": [
      "Answer 3"
     ]
    },
    {
     "cell_type": "markdown",
     "metadata": {},
     "source": [
      "Compute answer here"
     ]
    },
    {
     "cell_type": "heading",
     "level": 2,
     "metadata": {},
     "source": [
      "Question 4"
     ]
    },
    {
     "cell_type": "markdown",
     "metadata": {},
     "source": [
      "<div dir=\"auto\" class=\"course-quiz-question-text\">We wish to use the Flagolet-Martin lgorithm of Section 4.4\n",
      "to count the number of distinct\n",
      "elements in a stream.\n",
      "Suppose that there ten\n",
      "possible elements, 1, 2,..., 10, that could appear in the stream, but only four of them have\n",
      "actually appeared.  To make our estimate of the count of distinct elements,\n",
      "we hash each element to a 4-bit binary number.  The element <i>x</i> is\n",
      "hashed to 3<i>x</i> + 7 (modulo 11).  For example, element 8 hashes to 3*8+7 = 31, which\n",
      "is 9 modulo 11 (i.e., the remainder of 31/11 is 9).  Thus, the 4-bit string\n",
      "for element 8 is 1001.\n",
      "<p>\n",
      "A set of four of the elements 1 through 10 could give an estimate that is exact\n",
      "(if the estimate is 4), or too high, or too low.  You should figure out under what\n",
      "circumstances a set of four elements falls into each of those categories.\n",
      "Then, identify in the list below the set of four elements that gives the\n",
      "exactly correct estimate.</p>\n",
      "</div>\n",
      "<div dir=\"auto\" class=\"course-quiz-options\">\n",
      "<div class=\"course-quiz-option\">\n",
      "<input dir=\"auto\" class=\"course-quiz-input\" name=\"answer[5f59d5e591c3a2768bef9e0ff4fb11ed][]\" id=\"gensym_544ff012cbc42\" value=\"31f4d517c546d3352d10cfd8c37c5da2\" type=\"radio\"><label for=\"gensym_544ff012cbc42\" style=\"cursor:pointer;\">{ 1, 6, 7, 10} \n",
      "</label>\n",
      "</div>\n",
      "<div class=\"course-quiz-option\">\n",
      "<input dir=\"auto\" class=\"course-quiz-input\" name=\"answer[5f59d5e591c3a2768bef9e0ff4fb11ed][]\" id=\"gensym_544ff012cc37d\" value=\"cdd38adf52b865ffdcb87a6d83e49a65\" type=\"radio\"><label for=\"gensym_544ff012cc37d\" style=\"cursor:pointer;\">{2, 5, 7, 10} \n",
      "</label>\n",
      "</div>\n",
      "<div class=\"course-quiz-option\">\n",
      "<input dir=\"auto\" class=\"course-quiz-input\" name=\"answer[5f59d5e591c3a2768bef9e0ff4fb11ed][]\" id=\"gensym_544ff012cca9c\" value=\"a579af8bfb68bf40a729484b52ff859c\" type=\"radio\"><label for=\"gensym_544ff012cca9c\" style=\"cursor:pointer;\">{1, 3, 6, 8} \n",
      "</label>\n",
      "</div>\n",
      "<div class=\"course-quiz-option\">\n",
      "<input dir=\"auto\" class=\"course-quiz-input\" name=\"answer[5f59d5e591c3a2768bef9e0ff4fb11ed][]\" id=\"gensym_544ff012cd1b2\" value=\"e05a2213dbade921d9ab055477d23a56\" type=\"radio\"><label for=\"gensym_544ff012cd1b2\" style=\"cursor:pointer;\">{2, 6, 8, 9} \n",
      "</label>\n",
      "</div>\n",
      "</div>\n"
     ]
    },
    {
     "cell_type": "heading",
     "level": 4,
     "metadata": {},
     "source": [
      "Answer 4"
     ]
    },
    {
     "cell_type": "markdown",
     "metadata": {},
     "source": [
      "Compute answer here"
     ]
    },
    {
     "cell_type": "heading",
     "level": 2,
     "metadata": {},
     "source": [
      "Question 5"
     ]
    },
    {
     "cell_type": "markdown",
     "metadata": {},
     "source": [
      "<div dir=\"auto\" class=\"course-quiz-question-text\">Suppose we are using the DGIM algorithm of Section 4.6.2\n",
      "to estimate the number of 1's\n",
      "in suffixes of a sliding window of length 40.  The current timestamp is 100,\n",
      "and we have the following buckets stored:\n",
      "<p>\n",
      "</p>\n",
      "<center><table bgcolor=\"palegoldenrod\" border=\"5\">\n",
      "<tbody><tr>\n",
      "<th>End Time</th>\n",
      "<td>100</td>\n",
      "<td>98</td>\n",
      "<td>95</td>\n",
      "<td>92</td>\n",
      "<td>87</td>\n",
      "<td>80</td>\n",
      "<td>65</td>\n",
      "</tr>\n",
      "<tr>\n",
      "<th>Size</th>\n",
      "<td>1</td>\n",
      "<td>1</td>\n",
      "<td>2</td>\n",
      "<td>2</td>\n",
      "<td>4</td>\n",
      "<td>8</td>\n",
      "<td>8</td>\n",
      "</tr>\n",
      "</tbody></table></center>\n",
      "<p>\n",
      "Note: we are showing timestamps as absolute values, rather than modulo the\n",
      "window size, as DGIM would do.\n",
      "</p>\n",
      "<p>\n",
      "Suppose that at times 101 through 105, 1's appear in the stream.  Compute the\n",
      "set of buckets that would exist in the system at time 105.  Then identify\n",
      "one such bucket from the list below.  Buckets are represented by pairs\n",
      "(end-time, size).</p>\n",
      "</div>\n",
      "<div dir=\"auto\" class=\"course-quiz-options\">\n",
      "<div class=\"course-quiz-option\">\n",
      "<input dir=\"auto\" class=\"course-quiz-input\" name=\"answer[d3b78f798b24420f2a08756c7fcbd490][]\" id=\"gensym_544ff012d066b\" value=\"3aa14c4501358ab7d822a9e90985fe53\" type=\"radio\"><label for=\"gensym_544ff012d066b\" style=\"cursor:pointer;\">(102,2) \n",
      "</label>\n",
      "</div>\n",
      "<div class=\"course-quiz-option\">\n",
      "<input dir=\"auto\" class=\"course-quiz-input\" name=\"answer[d3b78f798b24420f2a08756c7fcbd490][]\" id=\"gensym_544ff012d0f10\" value=\"2ab2e0af9b7f2ddfe89f120627d924ee\" type=\"radio\"><label for=\"gensym_544ff012d0f10\" style=\"cursor:pointer;\">(100,2) \n",
      "</label>\n",
      "</div>\n",
      "<div class=\"course-quiz-option\">\n",
      "<input dir=\"auto\" class=\"course-quiz-input\" name=\"answer[d3b78f798b24420f2a08756c7fcbd490][]\" id=\"gensym_544ff012d17a2\" value=\"3d9694fb576c481cd79475e7f41c8b5f\" type=\"radio\"><label for=\"gensym_544ff012d17a2\" style=\"cursor:pointer;\">(87,8) \n",
      "</label>\n",
      "</div>\n",
      "<div class=\"course-quiz-option\">\n",
      "<input dir=\"auto\" class=\"course-quiz-input\" name=\"answer[d3b78f798b24420f2a08756c7fcbd490][]\" id=\"gensym_544ff012d1f1e\" value=\"f053feca51f66dc1a0c0498c3fb3e0cd\" type=\"radio\"><label for=\"gensym_544ff012d1f1e\" style=\"cursor:pointer;\">(104,2) \n",
      "</label>\n",
      "</div>\n",
      "</div>"
     ]
    },
    {
     "cell_type": "heading",
     "level": 4,
     "metadata": {},
     "source": [
      "Answer 5"
     ]
    },
    {
     "cell_type": "markdown",
     "metadata": {},
     "source": [
      "Compute answer here"
     ]
    },
    {
     "cell_type": "code",
     "collapsed": false,
     "input": [],
     "language": "python",
     "metadata": {},
     "outputs": []
    }
   ],
   "metadata": {}
  }
 ]
}