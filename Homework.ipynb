{
 "metadata": {
  "name": "",
  "signature": "sha256:1c4c4fc82de4263ab96b834a6411b07bde7390098e88fcc45226b78244f84f15"
 },
 "nbformat": 3,
 "nbformat_minor": 0,
 "worksheets": [
  {
   "cells": [
    {
     "cell_type": "heading",
     "level": 2,
     "metadata": {},
     "source": [
      "Homework 1"
     ]
    },
    {
     "cell_type": "heading",
     "level": 3,
     "metadata": {},
     "source": [
      "Question 1"
     ]
    },
    {
     "cell_type": "markdown",
     "metadata": {},
     "source": [
      "Consider three Web pages with the following links:\n",
      "![Three Web Pages](files/otc_pagerank2.gif)\n",
      "\n",
      "Suppose we compute PageRank with a \u03b2 of 0.7, and we introduce the additional constraint that the sum of the PageRanks of the three pages must be 3, to handle the problem that otherwise any multiple of a solution will also be a solution. Compute the PageRanks a, b, and c of the three pages A, B, and C, respectively. Then, identify from the list below, the true statement.\n",
      "\n",
      "b + c = 2.735  \n",
      "\n",
      "a + c = 2.745  \n",
      "\n",
      "a + b = 0.705  \n",
      "\n",
      "a + b = 0.55 \n"
     ]
    },
    {
     "cell_type": "code",
     "collapsed": false,
     "input": [],
     "language": "python",
     "metadata": {},
     "outputs": []
    },
    {
     "cell_type": "heading",
     "level": 3,
     "metadata": {},
     "source": [
      "Question 2"
     ]
    },
    {
     "cell_type": "markdown",
     "metadata": {},
     "source": [
      "Consider three Web pages with the following links:\n",
      "![Three Web Pages](files/otc_pagerank3.gif)\n",
      "\n",
      "Suppose we compute PageRank with \u03b2=0.85. \n",
      "Write the equations for the PageRanks a, b, and c of the three pages A, B, and C, respectively. \n",
      "Then, identify in the list below, one of the equations.\n",
      "\n",
      ".95a = .9c + .05b\n",
      "\n",
      "b = .575a + .15c\n",
      "\n",
      "c = .9b + .475a\n",
      "\n",
      "85b = .575a + .15c\n"
     ]
    },
    {
     "cell_type": "code",
     "collapsed": false,
     "input": [],
     "language": "python",
     "metadata": {},
     "outputs": []
    },
    {
     "cell_type": "heading",
     "level": 3,
     "metadata": {},
     "source": [
      "Question 3"
     ]
    },
    {
     "cell_type": "markdown",
     "metadata": {},
     "source": [
      "Consider three Web pages with the following links:\n",
      "![Three Web Pages](files/otc_pagerank3.gif)\n",
      "\n",
      "Assuming no \"taxation,\" compute the PageRanks a, b, and c of the three pages A, B, and C, using iteration, starting with the \"0th\" iteration where all three pages have rank a = b = c = 1. Compute as far as the 5th iteration, and also determine what the PageRanks are in the limit. Then, identify the true statement from the list below.\n",
      "\n",
      "After iteration 5, c = 7/4\n",
      "\n",
      "After iteration 5, c = 1\n",
      "\n",
      "In the limit, c = 9/7\n",
      "\n",
      "After iteration 5, a = 5/4\n"
     ]
    },
    {
     "cell_type": "code",
     "collapsed": false,
     "input": [],
     "language": "python",
     "metadata": {},
     "outputs": []
    },
    {
     "cell_type": "heading",
     "level": 3,
     "metadata": {},
     "source": [
      "Question 4"
     ]
    },
    {
     "cell_type": "markdown",
     "metadata": {},
     "source": [
      "Suppose our input data to a map-reduce operation consists of integer values (the keys are not important). The map function takes an integer i and produces the list of pairs (p,i) such that p is a prime divisor of i. For example, map(12) = [(2,12), (3,12)].\n",
      "\n",
      "The reduce function is addition. That is, reduce(_p_, [_i_<sub>1</sub>, _i_<sub>2</sub>, ...,_i_<sub>_k_</sub>])\n",
      "is (_p_,_i_<sub>1</sub>+_i_<sub>2</sub>+...+_i_<sub>_k_</sub>).\n",
      "\n",
      "Compute the output, if the input is the set of integers 15, 21, 24, 30, 49. Then, identify, in the list below, one of the pairs in the output.\n",
      "\n",
      "(7,119)\n",
      "\n",
      "(6,54)\n",
      "\n",
      "(3,75)\n",
      "\n",
      "(3,90)\n"
     ]
    },
    {
     "cell_type": "code",
     "collapsed": false,
     "input": [],
     "language": "python",
     "metadata": {},
     "outputs": []
    }
   ],
   "metadata": {}
  }
 ]
}